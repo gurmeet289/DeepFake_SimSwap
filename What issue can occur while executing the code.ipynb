{
 "cells": [
  {
   "cell_type": "markdown",
   "metadata": {},
   "source": [
    "# ISSUE FACED"
   ]
  },
  {
   "cell_type": "markdown",
   "metadata": {},
   "source": [
    "### Note- This observation is total depending on my observation while performing, it can be totally different for you!!"
   ]
  },
  {
   "cell_type": "markdown",
   "metadata": {},
   "source": [
    "### 1)\tAll the dependencies should be added properly otherwise error will be popping up.\n",
    "\n",
    "### 2)\tSometime the libraries or packages installed from anaconda terminal was not matching with the packages checking from jupyter notebook----- this might be due to the kernel issue or you are not using the anaconda environment therefore activate the anaconda environment(conda activate base).\n",
    "\n",
    "### 3)\tWhile performing the step 4 (Face Swap Images), it might throw cuda (RuntimeError: CUDA out of memory)---- it can be resolved by reducing the size of the pics you are using for swapping or you have to reduce the batch size.\n"
   ]
  },
  {
   "cell_type": "code",
   "execution_count": null,
   "metadata": {},
   "outputs": [],
   "source": []
  }
 ],
 "metadata": {
  "kernelspec": {
   "display_name": "Python 3",
   "language": "python",
   "name": "python3"
  },
  "language_info": {
   "codemirror_mode": {
    "name": "ipython",
    "version": 3
   },
   "file_extension": ".py",
   "mimetype": "text/x-python",
   "name": "python",
   "nbconvert_exporter": "python",
   "pygments_lexer": "ipython3",
   "version": "3.7.4"
  }
 },
 "nbformat": 4,
 "nbformat_minor": 2
}
